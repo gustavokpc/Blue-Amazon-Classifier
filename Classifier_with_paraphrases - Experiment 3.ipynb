{
 "cells": [
  {
   "cell_type": "code",
   "execution_count": 2,
   "metadata": {
    "id": "f09a6c51"
   },
   "outputs": [],
   "source": [
    "import numpy as np, pandas as pd\n",
    "import seaborn as sns\n",
    "import matplotlib.pyplot as plt\n",
    "from sklearn.datasets import fetch_20newsgroups\n",
    "from sklearn.feature_extraction.text import TfidfVectorizer\n",
    "from sklearn.naive_bayes import MultinomialNB\n",
    "from sklearn.pipeline import make_pipeline\n",
    "from sklearn.metrics import confusion_matrix, accuracy_score, f1_score, matthews_corrcoef\n",
    "import pandas as pd\n",
    "import random\n",
    "import re\n",
    "\n",
    "sns.set(font_scale=1.5)"
   ]
  },
  {
   "cell_type": "code",
   "execution_count": 4,
   "metadata": {
    "colab": {
     "base_uri": "https://localhost:8080/",
     "height": 293
    },
    "id": "7223bff6",
    "outputId": "e134bc07-848c-443d-cef4-0af8c45abef0"
   },
   "outputs": [
    {
     "ename": "FileNotFoundError",
     "evalue": "[Errno 2] No such file or directory: 'pira.csv'",
     "output_type": "error",
     "traceback": [
      "\u001b[0;31m---------------------------------------------------------------------------\u001b[0m",
      "\u001b[0;31mFileNotFoundError\u001b[0m                         Traceback (most recent call last)",
      "\u001b[1;32m/home/gustavokpc/Downloads/IC/Classifier_with_paraphrases - Experiment 3.ipynb Célula 2\u001b[0m line \u001b[0;36m1\n\u001b[0;32m----> <a href='vscode-notebook-cell:/home/gustavokpc/Downloads/IC/Classifier_with_paraphrases%20-%20Experiment%203.ipynb#W1sZmlsZQ%3D%3D?line=0'>1</a>\u001b[0m df \u001b[39m=\u001b[39m pd\u001b[39m.\u001b[39;49mread_csv(\u001b[39m\"\u001b[39;49m\u001b[39mpira.csv\u001b[39;49m\u001b[39m\"\u001b[39;49m, sep \u001b[39m=\u001b[39;49m \u001b[39m'\u001b[39;49m\u001b[39m;\u001b[39;49m\u001b[39m'\u001b[39;49m)\n\u001b[1;32m      <a href='vscode-notebook-cell:/home/gustavokpc/Downloads/IC/Classifier_with_paraphrases%20-%20Experiment%203.ipynb#W1sZmlsZQ%3D%3D?line=1'>2</a>\u001b[0m df_OO \u001b[39m=\u001b[39m df[[\u001b[39m'\u001b[39m\u001b[39mabstract\u001b[39m\u001b[39m'\u001b[39m, \u001b[39m'\u001b[39m\u001b[39mquestion_en_origin\u001b[39m\u001b[39m'\u001b[39m, \u001b[39m'\u001b[39m\u001b[39manswer_en_origin\u001b[39m\u001b[39m'\u001b[39m, \u001b[39m'\u001b[39m\u001b[39mquestion_meaningful\u001b[39m\u001b[39m'\u001b[39m]]\n\u001b[1;32m      <a href='vscode-notebook-cell:/home/gustavokpc/Downloads/IC/Classifier_with_paraphrases%20-%20Experiment%203.ipynb#W1sZmlsZQ%3D%3D?line=2'>3</a>\u001b[0m df_OO\u001b[39m.\u001b[39mcolumns \u001b[39m=\u001b[39m [\u001b[39m'\u001b[39m\u001b[39mabstract\u001b[39m\u001b[39m'\u001b[39m, \u001b[39m'\u001b[39m\u001b[39mquestion\u001b[39m\u001b[39m'\u001b[39m, \u001b[39m'\u001b[39m\u001b[39manswer\u001b[39m\u001b[39m'\u001b[39m, \u001b[39m'\u001b[39m\u001b[39mquestion_meaningful\u001b[39m\u001b[39m'\u001b[39m]\n",
      "File \u001b[0;32m~/.local/lib/python3.10/site-packages/pandas/io/parsers/readers.py:912\u001b[0m, in \u001b[0;36mread_csv\u001b[0;34m(filepath_or_buffer, sep, delimiter, header, names, index_col, usecols, dtype, engine, converters, true_values, false_values, skipinitialspace, skiprows, skipfooter, nrows, na_values, keep_default_na, na_filter, verbose, skip_blank_lines, parse_dates, infer_datetime_format, keep_date_col, date_parser, date_format, dayfirst, cache_dates, iterator, chunksize, compression, thousands, decimal, lineterminator, quotechar, quoting, doublequote, escapechar, comment, encoding, encoding_errors, dialect, on_bad_lines, delim_whitespace, low_memory, memory_map, float_precision, storage_options, dtype_backend)\u001b[0m\n\u001b[1;32m    899\u001b[0m kwds_defaults \u001b[39m=\u001b[39m _refine_defaults_read(\n\u001b[1;32m    900\u001b[0m     dialect,\n\u001b[1;32m    901\u001b[0m     delimiter,\n\u001b[0;32m   (...)\u001b[0m\n\u001b[1;32m    908\u001b[0m     dtype_backend\u001b[39m=\u001b[39mdtype_backend,\n\u001b[1;32m    909\u001b[0m )\n\u001b[1;32m    910\u001b[0m kwds\u001b[39m.\u001b[39mupdate(kwds_defaults)\n\u001b[0;32m--> 912\u001b[0m \u001b[39mreturn\u001b[39;00m _read(filepath_or_buffer, kwds)\n",
      "File \u001b[0;32m~/.local/lib/python3.10/site-packages/pandas/io/parsers/readers.py:577\u001b[0m, in \u001b[0;36m_read\u001b[0;34m(filepath_or_buffer, kwds)\u001b[0m\n\u001b[1;32m    574\u001b[0m _validate_names(kwds\u001b[39m.\u001b[39mget(\u001b[39m\"\u001b[39m\u001b[39mnames\u001b[39m\u001b[39m\"\u001b[39m, \u001b[39mNone\u001b[39;00m))\n\u001b[1;32m    576\u001b[0m \u001b[39m# Create the parser.\u001b[39;00m\n\u001b[0;32m--> 577\u001b[0m parser \u001b[39m=\u001b[39m TextFileReader(filepath_or_buffer, \u001b[39m*\u001b[39;49m\u001b[39m*\u001b[39;49mkwds)\n\u001b[1;32m    579\u001b[0m \u001b[39mif\u001b[39;00m chunksize \u001b[39mor\u001b[39;00m iterator:\n\u001b[1;32m    580\u001b[0m     \u001b[39mreturn\u001b[39;00m parser\n",
      "File \u001b[0;32m~/.local/lib/python3.10/site-packages/pandas/io/parsers/readers.py:1407\u001b[0m, in \u001b[0;36mTextFileReader.__init__\u001b[0;34m(self, f, engine, **kwds)\u001b[0m\n\u001b[1;32m   1404\u001b[0m     \u001b[39mself\u001b[39m\u001b[39m.\u001b[39moptions[\u001b[39m\"\u001b[39m\u001b[39mhas_index_names\u001b[39m\u001b[39m\"\u001b[39m] \u001b[39m=\u001b[39m kwds[\u001b[39m\"\u001b[39m\u001b[39mhas_index_names\u001b[39m\u001b[39m\"\u001b[39m]\n\u001b[1;32m   1406\u001b[0m \u001b[39mself\u001b[39m\u001b[39m.\u001b[39mhandles: IOHandles \u001b[39m|\u001b[39m \u001b[39mNone\u001b[39;00m \u001b[39m=\u001b[39m \u001b[39mNone\u001b[39;00m\n\u001b[0;32m-> 1407\u001b[0m \u001b[39mself\u001b[39m\u001b[39m.\u001b[39m_engine \u001b[39m=\u001b[39m \u001b[39mself\u001b[39;49m\u001b[39m.\u001b[39;49m_make_engine(f, \u001b[39mself\u001b[39;49m\u001b[39m.\u001b[39;49mengine)\n",
      "File \u001b[0;32m~/.local/lib/python3.10/site-packages/pandas/io/parsers/readers.py:1661\u001b[0m, in \u001b[0;36mTextFileReader._make_engine\u001b[0;34m(self, f, engine)\u001b[0m\n\u001b[1;32m   1659\u001b[0m     \u001b[39mif\u001b[39;00m \u001b[39m\"\u001b[39m\u001b[39mb\u001b[39m\u001b[39m\"\u001b[39m \u001b[39mnot\u001b[39;00m \u001b[39min\u001b[39;00m mode:\n\u001b[1;32m   1660\u001b[0m         mode \u001b[39m+\u001b[39m\u001b[39m=\u001b[39m \u001b[39m\"\u001b[39m\u001b[39mb\u001b[39m\u001b[39m\"\u001b[39m\n\u001b[0;32m-> 1661\u001b[0m \u001b[39mself\u001b[39m\u001b[39m.\u001b[39mhandles \u001b[39m=\u001b[39m get_handle(\n\u001b[1;32m   1662\u001b[0m     f,\n\u001b[1;32m   1663\u001b[0m     mode,\n\u001b[1;32m   1664\u001b[0m     encoding\u001b[39m=\u001b[39;49m\u001b[39mself\u001b[39;49m\u001b[39m.\u001b[39;49moptions\u001b[39m.\u001b[39;49mget(\u001b[39m\"\u001b[39;49m\u001b[39mencoding\u001b[39;49m\u001b[39m\"\u001b[39;49m, \u001b[39mNone\u001b[39;49;00m),\n\u001b[1;32m   1665\u001b[0m     compression\u001b[39m=\u001b[39;49m\u001b[39mself\u001b[39;49m\u001b[39m.\u001b[39;49moptions\u001b[39m.\u001b[39;49mget(\u001b[39m\"\u001b[39;49m\u001b[39mcompression\u001b[39;49m\u001b[39m\"\u001b[39;49m, \u001b[39mNone\u001b[39;49;00m),\n\u001b[1;32m   1666\u001b[0m     memory_map\u001b[39m=\u001b[39;49m\u001b[39mself\u001b[39;49m\u001b[39m.\u001b[39;49moptions\u001b[39m.\u001b[39;49mget(\u001b[39m\"\u001b[39;49m\u001b[39mmemory_map\u001b[39;49m\u001b[39m\"\u001b[39;49m, \u001b[39mFalse\u001b[39;49;00m),\n\u001b[1;32m   1667\u001b[0m     is_text\u001b[39m=\u001b[39;49mis_text,\n\u001b[1;32m   1668\u001b[0m     errors\u001b[39m=\u001b[39;49m\u001b[39mself\u001b[39;49m\u001b[39m.\u001b[39;49moptions\u001b[39m.\u001b[39;49mget(\u001b[39m\"\u001b[39;49m\u001b[39mencoding_errors\u001b[39;49m\u001b[39m\"\u001b[39;49m, \u001b[39m\"\u001b[39;49m\u001b[39mstrict\u001b[39;49m\u001b[39m\"\u001b[39;49m),\n\u001b[1;32m   1669\u001b[0m     storage_options\u001b[39m=\u001b[39;49m\u001b[39mself\u001b[39;49m\u001b[39m.\u001b[39;49moptions\u001b[39m.\u001b[39;49mget(\u001b[39m\"\u001b[39;49m\u001b[39mstorage_options\u001b[39;49m\u001b[39m\"\u001b[39;49m, \u001b[39mNone\u001b[39;49;00m),\n\u001b[1;32m   1670\u001b[0m )\n\u001b[1;32m   1671\u001b[0m \u001b[39massert\u001b[39;00m \u001b[39mself\u001b[39m\u001b[39m.\u001b[39mhandles \u001b[39mis\u001b[39;00m \u001b[39mnot\u001b[39;00m \u001b[39mNone\u001b[39;00m\n\u001b[1;32m   1672\u001b[0m f \u001b[39m=\u001b[39m \u001b[39mself\u001b[39m\u001b[39m.\u001b[39mhandles\u001b[39m.\u001b[39mhandle\n",
      "File \u001b[0;32m~/.local/lib/python3.10/site-packages/pandas/io/common.py:859\u001b[0m, in \u001b[0;36mget_handle\u001b[0;34m(path_or_buf, mode, encoding, compression, memory_map, is_text, errors, storage_options)\u001b[0m\n\u001b[1;32m    854\u001b[0m \u001b[39melif\u001b[39;00m \u001b[39misinstance\u001b[39m(handle, \u001b[39mstr\u001b[39m):\n\u001b[1;32m    855\u001b[0m     \u001b[39m# Check whether the filename is to be opened in binary mode.\u001b[39;00m\n\u001b[1;32m    856\u001b[0m     \u001b[39m# Binary mode does not support 'encoding' and 'newline'.\u001b[39;00m\n\u001b[1;32m    857\u001b[0m     \u001b[39mif\u001b[39;00m ioargs\u001b[39m.\u001b[39mencoding \u001b[39mand\u001b[39;00m \u001b[39m\"\u001b[39m\u001b[39mb\u001b[39m\u001b[39m\"\u001b[39m \u001b[39mnot\u001b[39;00m \u001b[39min\u001b[39;00m ioargs\u001b[39m.\u001b[39mmode:\n\u001b[1;32m    858\u001b[0m         \u001b[39m# Encoding\u001b[39;00m\n\u001b[0;32m--> 859\u001b[0m         handle \u001b[39m=\u001b[39m \u001b[39mopen\u001b[39;49m(\n\u001b[1;32m    860\u001b[0m             handle,\n\u001b[1;32m    861\u001b[0m             ioargs\u001b[39m.\u001b[39;49mmode,\n\u001b[1;32m    862\u001b[0m             encoding\u001b[39m=\u001b[39;49mioargs\u001b[39m.\u001b[39;49mencoding,\n\u001b[1;32m    863\u001b[0m             errors\u001b[39m=\u001b[39;49merrors,\n\u001b[1;32m    864\u001b[0m             newline\u001b[39m=\u001b[39;49m\u001b[39m\"\u001b[39;49m\u001b[39m\"\u001b[39;49m,\n\u001b[1;32m    865\u001b[0m         )\n\u001b[1;32m    866\u001b[0m     \u001b[39melse\u001b[39;00m:\n\u001b[1;32m    867\u001b[0m         \u001b[39m# Binary mode\u001b[39;00m\n\u001b[1;32m    868\u001b[0m         handle \u001b[39m=\u001b[39m \u001b[39mopen\u001b[39m(handle, ioargs\u001b[39m.\u001b[39mmode)\n",
      "\u001b[0;31mFileNotFoundError\u001b[0m: [Errno 2] No such file or directory: 'pira.csv'"
     ]
    }
   ],
   "source": [
    "df = pd.read_csv(\"pira.csv\", sep = ';')\n",
    "df_OO = df[['abstract', 'question_en_origin', 'answer_en_origin', 'question_meaningful']]\n",
    "df_OO.columns = ['abstract', 'question', 'answer', 'question_meaningful']\n",
    "df_OP = df[['abstract', 'question_en_origin', 'answer_en_validate', 'question_meaningful']]\n",
    "df_OP.columns = ['abstract', 'question', 'answer', 'question_meaningful']\n",
    "df_PO = df[['abstract', 'question_en_paraphase', 'answer_en_origin', 'question_meaningful']]\n",
    "df_PO.columns = ['abstract', 'question', 'answer', 'question_meaningful']\n",
    "df_PP = df[['abstract', 'question_en_paraphase', 'answer_en_validate', 'question_meaningful']]\n",
    "df_PP.columns = ['abstract', 'question', 'answer', 'question_meaningful']\n",
    "df = pd.concat([df_OO, df_OP, df_PO, df_PP])\n",
    "df = df.reset_index(drop=True)\n",
    "df.head()"
   ]
  },
  {
   "cell_type": "code",
   "execution_count": null,
   "metadata": {
    "colab": {
     "base_uri": "https://localhost:8080/"
    },
    "id": "smyHs_E2sIPK",
    "outputId": "1fc40edf-314a-434a-d9c3-677910785df7"
   },
   "outputs": [
    {
     "name": "stdout",
     "output_type": "stream",
     "text": [
      "(9084, 4)\n"
     ]
    }
   ],
   "source": [
    "print(df.shape)"
   ]
  },
  {
   "cell_type": "code",
   "execution_count": null,
   "metadata": {
    "colab": {
     "base_uri": "https://localhost:8080/"
    },
    "id": "d2e16MASsbMm",
    "outputId": "18aa26a3-16b1-4211-9b6f-ddb59bbe630a"
   },
   "outputs": [
    {
     "data": {
      "text/plain": [
       "(8384, 4)"
      ]
     },
     "execution_count": 6,
     "metadata": {},
     "output_type": "execute_result"
    }
   ],
   "source": [
    "df.dropna(subset=['question', 'answer', 'question_meaningful'], inplace=True)\n",
    "df.shape"
   ]
  },
  {
   "cell_type": "code",
   "execution_count": null,
   "metadata": {},
   "outputs": [
    {
     "name": "stdout",
     "output_type": "stream",
     "text": [
      "6914\n"
     ]
    }
   ],
   "source": [
    "# apenas questões cuja resposta não é um pedaço do texto\n",
    "df['contain'] = df.apply(lambda x: x['answer'] in x['abstract'], axis=1)\n",
    "df = df[df['contain'] == False]\n",
    "print(len(df))"
   ]
  },
  {
   "cell_type": "code",
   "execution_count": null,
   "metadata": {
    "colab": {
     "base_uri": "https://localhost:8080/",
     "height": 379
    },
    "id": "BQ21Qd2Xqqy5",
    "outputId": "505216c9-177f-4c8f-9d01-9cf53b60d513"
   },
   "outputs": [
    {
     "data": {
      "text/html": [
       "<div>\n",
       "<style scoped>\n",
       "    .dataframe tbody tr th:only-of-type {\n",
       "        vertical-align: middle;\n",
       "    }\n",
       "\n",
       "    .dataframe tbody tr th {\n",
       "        vertical-align: top;\n",
       "    }\n",
       "\n",
       "    .dataframe thead th {\n",
       "        text-align: right;\n",
       "    }\n",
       "</style>\n",
       "<table border=\"1\" class=\"dataframe\">\n",
       "  <thead>\n",
       "    <tr style=\"text-align: right;\">\n",
       "      <th></th>\n",
       "      <th>abstract</th>\n",
       "      <th>question</th>\n",
       "      <th>answer</th>\n",
       "      <th>question_meaningful</th>\n",
       "      <th>contain</th>\n",
       "      <th>labels</th>\n",
       "      <th>text</th>\n",
       "    </tr>\n",
       "  </thead>\n",
       "  <tbody>\n",
       "    <tr>\n",
       "      <th>2</th>\n",
       "      <td>The Cretaceous Bauru Group of the Paraná Basin...</td>\n",
       "      <td>When was the Bed of Ibaté formed?</td>\n",
       "      <td>Late Cretaceous.</td>\n",
       "      <td>5.0</td>\n",
       "      <td>False</td>\n",
       "      <td>1</td>\n",
       "      <td>The Cretaceous Bauru Group of the Paraná Basin...</td>\n",
       "    </tr>\n",
       "    <tr>\n",
       "      <th>3</th>\n",
       "      <td>This study presents new stable carbon and oxyg...</td>\n",
       "      <td>From where are the lacustrine carbonate rock s...</td>\n",
       "      <td>From a well drilled in the Santos Basin.</td>\n",
       "      <td>4.0</td>\n",
       "      <td>False</td>\n",
       "      <td>1</td>\n",
       "      <td>This study presents new stable carbon and oxyg...</td>\n",
       "    </tr>\n",
       "    <tr>\n",
       "      <th>5</th>\n",
       "      <td>The objective of this work is to describe the ...</td>\n",
       "      <td>Which season the 10-m wind over the ESGA blows...</td>\n",
       "      <td>Autumn season.</td>\n",
       "      <td>5.0</td>\n",
       "      <td>False</td>\n",
       "      <td>1</td>\n",
       "      <td>The objective of this work is to describe the ...</td>\n",
       "    </tr>\n",
       "    <tr>\n",
       "      <th>6</th>\n",
       "      <td>Invented by Petrobras in 1996, the torpedo anc...</td>\n",
       "      <td>Who invented the torpedo anchor?</td>\n",
       "      <td>Petrobras.</td>\n",
       "      <td>5.0</td>\n",
       "      <td>False</td>\n",
       "      <td>1</td>\n",
       "      <td>Invented by Petrobras in 1996, the torpedo anc...</td>\n",
       "    </tr>\n",
       "    <tr>\n",
       "      <th>7</th>\n",
       "      <td>The population structure of Mithraculus forcep...</td>\n",
       "      <td>Which other kind of species resides close to t...</td>\n",
       "      <td>Other decapod crustaceans.</td>\n",
       "      <td>5.0</td>\n",
       "      <td>False</td>\n",
       "      <td>1</td>\n",
       "      <td>The population structure of Mithraculus forcep...</td>\n",
       "    </tr>\n",
       "  </tbody>\n",
       "</table>\n",
       "</div>"
      ],
      "text/plain": [
       "                                            abstract  \\\n",
       "2  The Cretaceous Bauru Group of the Paraná Basin...   \n",
       "3  This study presents new stable carbon and oxyg...   \n",
       "5  The objective of this work is to describe the ...   \n",
       "6  Invented by Petrobras in 1996, the torpedo anc...   \n",
       "7  The population structure of Mithraculus forcep...   \n",
       "\n",
       "                                            question  \\\n",
       "2                  When was the Bed of Ibaté formed?   \n",
       "3  From where are the lacustrine carbonate rock s...   \n",
       "5  Which season the 10-m wind over the ESGA blows...   \n",
       "6                   Who invented the torpedo anchor?   \n",
       "7  Which other kind of species resides close to t...   \n",
       "\n",
       "                                     answer  question_meaningful  contain  \\\n",
       "2                          Late Cretaceous.                  5.0    False   \n",
       "3  From a well drilled in the Santos Basin.                  4.0    False   \n",
       "5                            Autumn season.                  5.0    False   \n",
       "6                                Petrobras.                  5.0    False   \n",
       "7                Other decapod crustaceans.                  5.0    False   \n",
       "\n",
       "   labels                                               text  \n",
       "2       1  The Cretaceous Bauru Group of the Paraná Basin...  \n",
       "3       1  This study presents new stable carbon and oxyg...  \n",
       "5       1  The objective of this work is to describe the ...  \n",
       "6       1  Invented by Petrobras in 1996, the torpedo anc...  \n",
       "7       1  The population structure of Mithraculus forcep...  "
      ]
     },
     "execution_count": 8,
     "metadata": {},
     "output_type": "execute_result"
    }
   ],
   "source": [
    "#df = df[(df['question_meaningful'] == 1) | (df['question_meaningful'] == 5)]\n",
    "\n",
    "df['labels'] = [1 if x > 3 else 0 for x in df['question_meaningful']] # Só tem respostas questões avaliadas com mais que 2\n",
    "\n",
    "df['abstract'] = df['abstract'].apply(lambda x: re.sub('<[^<]+?>', '', x))\n",
    "df['abstract'] = df['abstract'].apply(lambda x: re.sub(r'\\n', '', x))\n",
    "df['abstract'] = df['abstract'].apply(lambda x: re.sub(r'\\t', '', x))\n",
    "df['question'] = df['question'].apply(lambda x: re.sub(r'\\n', '', x))\n",
    "df['answer'] = df['answer'].apply(lambda x: re.sub(r'\\n', '', x))\n",
    "df['text'] = df['abstract'] + \" </s> \" + df['question']\n",
    "df.head()"
   ]
  },
  {
   "cell_type": "code",
   "execution_count": null,
   "metadata": {
    "colab": {
     "base_uri": "https://localhost:8080/"
    },
    "id": "mvJIur3RN2jN",
    "outputId": "18393133-de44-4737-de7e-dd8f506c0c37"
   },
   "outputs": [
    {
     "data": {
      "text/plain": [
       "(2466, 7)"
      ]
     },
     "execution_count": 9,
     "metadata": {},
     "output_type": "execute_result"
    }
   ],
   "source": [
    "# Balancear o dataset. Mesmo número de questões com valor == 5 que de valor == 1 (242)\n",
    "df_meaningful = df[(df['labels'] == 1)]\n",
    "\n",
    "df_non_meaningful = df[(df['labels'] == 0)]\n",
    "\n",
    "df_mean_reduced = df_meaningful.sample(n = len(df_non_meaningful), random_state = 3)\n",
    "\n",
    "df = pd.concat([df_non_meaningful, df_mean_reduced])\n",
    "df.shape"
   ]
  },
  {
   "cell_type": "code",
   "execution_count": null,
   "metadata": {
    "colab": {
     "base_uri": "https://localhost:8080/"
    },
    "id": "bf632af5",
    "outputId": "4e173bac-1063-4661-c7cc-8799b00c6d05"
   },
   "outputs": [
    {
     "name": "stdout",
     "output_type": "stream",
     "text": [
      "Questions with answers: 1233\n",
      "Questions without answers: 1233\n"
     ]
    }
   ],
   "source": [
    "print('Questions with answers: ' + str(len(df[df['labels'] == 1])))\n",
    "print('Questions without answers: ' + str(len(df[df['labels'] == 0])))"
   ]
  },
  {
   "cell_type": "code",
   "execution_count": null,
   "metadata": {
    "id": "81e2b586"
   },
   "outputs": [],
   "source": [
    "from sklearn.model_selection import train_test_split\n",
    "\n",
    "train_df, eval_df = train_test_split(df, test_size=0.15, random_state=1002)"
   ]
  },
  {
   "cell_type": "code",
   "execution_count": null,
   "metadata": {
    "colab": {
     "base_uri": "https://localhost:8080/"
    },
    "id": "297a3488",
    "outputId": "68cf6921-3f53-46d3-b9eb-96ca085d2f96"
   },
   "outputs": [
    {
     "name": "stdout",
     "output_type": "stream",
     "text": [
      "Simple assignment to the largest class: 0.5\n"
     ]
    }
   ],
   "source": [
    "print(\"Simple assignment to the largest class: \" + str(len(eval_df[eval_df['labels'] == 1])/len(eval_df)))"
   ]
  },
  {
   "cell_type": "code",
   "execution_count": null,
   "metadata": {
    "colab": {
     "base_uri": "https://localhost:8080/"
    },
    "id": "2eb4bec1",
    "outputId": "977f5078-fb70-4413-ce4f-20685cf2775a"
   },
   "outputs": [
    {
     "data": {
      "text/plain": [
       "Pipeline(steps=[('tfidfvectorizer', TfidfVectorizer()),\n",
       "                ('multinomialnb', MultinomialNB())])"
      ]
     },
     "execution_count": 14,
     "metadata": {},
     "output_type": "execute_result"
    }
   ],
   "source": [
    "# Build the model\n",
    "model = make_pipeline(TfidfVectorizer(), MultinomialNB())# Train the model using the training data\n",
    "model.fit(train_df['text'].values, train_df['labels'].values)# Predict the categories of the test data"
   ]
  },
  {
   "cell_type": "code",
   "execution_count": null,
   "metadata": {
    "id": "c92a0f28"
   },
   "outputs": [],
   "source": [
    "predicted_categories = model.predict(eval_df['text'].values)"
   ]
  },
  {
   "cell_type": "code",
   "execution_count": null,
   "metadata": {
    "colab": {
     "base_uri": "https://localhost:8080/",
     "height": 486
    },
    "id": "530eae4b",
    "outputId": "77568dac-b2e8-4ef0-ff0f-87fe193a1fcd"
   },
   "outputs": [
    {
     "data": {
      "image/png": "[encoded data removed]",
      "text/plain": [
       "<Figure size 504x504 with 2 Axes>"
      ]
     },
     "metadata": {},
     "output_type": "display_data"
    },
    {
     "name": "stdout",
     "output_type": "stream",
     "text": [
      "The accuracy is 0.6945945945945946\n",
      "The matthews_corrcoef is 0.39406086886175407\n",
      "The f1_score is 0.6927068404148201\n"
     ]
    }
   ],
   "source": [
    "# plot the confusion matrix\n",
    "mat = confusion_matrix(eval_df['labels'].values, predicted_categories)\n",
    "\n",
    "plt.figure(figsize=(7, 7))\n",
    "sns.heatmap(mat.T, square=True, annot=True, fmt=\"d\")\n",
    "plt.xlabel(\"true labels\")\n",
    "plt.ylabel(\"predicted label\")\n",
    "plt.show()\n",
    "\n",
    "print(\"The accuracy is {}\".format(accuracy_score(eval_df['labels'].values, predicted_categories)))\n",
    "print(\"The matthews_corrcoef is {}\".format(matthews_corrcoef(eval_df['labels'].values, predicted_categories)))\n",
    "print(\"The f1_score is {}\".format(f1_score(eval_df['labels'].values, predicted_categories, average='weighted')))"
   ]
  },
  {
   "cell_type": "code",
   "execution_count": null,
   "metadata": {},
   "outputs": [
    {
     "name": "stdout",
     "output_type": "stream",
     "text": [
      "Requirement already satisfied: transformers in /home/ppirozelli/.local/lib/python3.8/site-packages (4.11.2)\n",
      "Requirement already satisfied: pyyaml>=5.1 in /usr/lib/python3/dist-packages (from transformers) (5.3.1)\n",
      "Requirement already satisfied: packaging>=20.0 in /usr/local/lib/python3.8/dist-packages (from transformers) (20.9)\n",
      "Requirement already satisfied: tqdm>=4.27 in /usr/local/lib/python3.8/dist-packages (from transformers) (4.49.0)\n",
      "Requirement already satisfied: regex!=2019.12.17 in /usr/local/lib/python3.8/dist-packages (from transformers) (2021.4.4)\n",
      "Requirement already satisfied: tokenizers<0.11,>=0.10.1 in /home/ppirozelli/.local/lib/python3.8/site-packages (from transformers) (0.10.3)\n",
      "Requirement already satisfied: requests in /usr/lib/python3/dist-packages (from transformers) (2.22.0)\n",
      "Requirement already satisfied: filelock in /usr/local/lib/python3.8/dist-packages (from transformers) (3.0.12)\n",
      "Requirement already satisfied: huggingface-hub>=0.0.17 in /home/ppirozelli/.local/lib/python3.8/site-packages (from transformers) (0.0.18)\n",
      "Requirement already satisfied: sacremoses in /usr/local/lib/python3.8/dist-packages (from transformers) (0.0.45)\n",
      "Requirement already satisfied: numpy>=1.17 in /home/ppirozelli/.local/lib/python3.8/site-packages (from transformers) (1.19.5)\n",
      "Requirement already satisfied: pyparsing>=2.0.2 in /usr/local/lib/python3.8/dist-packages (from packaging>=20.0->transformers) (2.4.7)\n",
      "Requirement already satisfied: typing-extensions in /home/ppirozelli/.local/lib/python3.8/site-packages (from huggingface-hub>=0.0.17->transformers) (3.7.4.3)\n",
      "Requirement already satisfied: ruamel.yaml==0.17.16 in /home/ppirozelli/.local/lib/python3.8/site-packages (from huggingface-hub>=0.0.17->transformers) (0.17.16)\n",
      "Requirement already satisfied: click in /usr/lib/python3/dist-packages (from sacremoses->transformers) (7.0)\n",
      "Requirement already satisfied: six in /home/ppirozelli/.local/lib/python3.8/site-packages (from sacremoses->transformers) (1.15.0)\n",
      "Requirement already satisfied: joblib in /usr/local/lib/python3.8/dist-packages (from sacremoses->transformers) (1.0.1)\n",
      "Requirement already satisfied: ruamel.yaml.clib>=0.1.2; platform_python_implementation == \"CPython\" and python_version < \"3.10\" in /home/ppirozelli/.local/lib/python3.8/site-packages (from ruamel.yaml==0.17.16->huggingface-hub>=0.0.17->transformers) (0.2.6)\n"
     ]
    }
   ],
   "source": [
    "!pip install transformers"
   ]
  },
  {
   "cell_type": "code",
   "execution_count": null,
   "metadata": {
    "colab": {
     "base_uri": "https://localhost:8080/"
    },
    "id": "NXrZi64UUurn",
    "outputId": "febd45ae-d4e5-4d0f-d721-9b5e187e2320"
   },
   "outputs": [
    {
     "name": "stdout",
     "output_type": "stream",
     "text": [
      "Requirement already satisfied: simpletransformers in /home/ppirozelli/.local/lib/python3.8/site-packages (0.62.2)\n",
      "Requirement already satisfied: streamlit in /home/ppirozelli/.local/lib/python3.8/site-packages (from simpletransformers) (1.0.0)\n",
      "Requirement already satisfied: sentencepiece in /usr/local/lib/python3.8/dist-packages (from simpletransformers) (0.1.95)\n",
      "Requirement already satisfied: regex in /usr/local/lib/python3.8/dist-packages (from simpletransformers) (2021.4.4)\n",
      "Requirement already satisfied: transformers>=4.6.0 in /home/ppirozelli/.local/lib/python3.8/site-packages (from simpletransformers) (4.11.2)\n",
      "Requirement already satisfied: numpy in /home/ppirozelli/.local/lib/python3.8/site-packages (from simpletransformers) (1.19.5)\n",
      "Requirement already satisfied: datasets in /usr/local/lib/python3.8/dist-packages (from simpletransformers) (1.7.0)\n",
      "Requirement already satisfied: scikit-learn in /usr/local/lib/python3.8/dist-packages (from simpletransformers) (0.24.2)\n",
      "Requirement already satisfied: scipy in /usr/local/lib/python3.8/dist-packages (from simpletransformers) (1.6.3)\n",
      "Requirement already satisfied: tokenizers in /home/ppirozelli/.local/lib/python3.8/site-packages (from simpletransformers) (0.10.3)\n",
      "Requirement already satisfied: tensorboard in /home/ppirozelli/.local/lib/python3.8/site-packages (from simpletransformers) (2.6.0)\n",
      "Requirement already satisfied: requests in /usr/lib/python3/dist-packages (from simpletransformers) (2.22.0)\n",
      "Requirement already satisfied: tqdm>=4.47.0 in /usr/local/lib/python3.8/dist-packages (from simpletransformers) (4.49.0)\n",
      "Requirement already satisfied: pandas in /usr/local/lib/python3.8/dist-packages (from simpletransformers) (1.2.4)\n",
      "Requirement already satisfied: wandb>=0.10.32 in /home/ppirozelli/.local/lib/python3.8/site-packages (from simpletransformers) (0.12.4)\n",
      "Requirement already satisfied: seqeval in /usr/local/lib/python3.8/dist-packages (from simpletransformers) (1.2.2)\n",
      "Requirement already satisfied: pydeck>=0.1.dev5 in /home/ppirozelli/.local/lib/python3.8/site-packages (from streamlit->simpletransformers) (0.7.0)\n",
      "Requirement already satisfied: tzlocal in /home/ppirozelli/.local/lib/python3.8/site-packages (from streamlit->simpletransformers) (3.0)\n",
      "Requirement already satisfied: watchdog; platform_system != \"Darwin\" in /home/ppirozelli/.local/lib/python3.8/site-packages (from streamlit->simpletransformers) (2.1.6)\n",
      "Requirement already satisfied: blinker in /usr/lib/python3/dist-packages (from streamlit->simpletransformers) (1.4)\n",
      "Requirement already satisfied: gitpython!=3.1.19 in /usr/local/lib/python3.8/dist-packages (from streamlit->simpletransformers) (3.1.17)\n",
      "Requirement already satisfied: pyarrow in /usr/local/lib/python3.8/dist-packages (from streamlit->simpletransformers) (3.0.0)\n",
      "Requirement already satisfied: click<8.0,>=7.0 in /usr/lib/python3/dist-packages (from streamlit->simpletransformers) (7.0)\n",
      "Requirement already satisfied: cachetools>=4.0 in /home/ppirozelli/.local/lib/python3.8/site-packages (from streamlit->simpletransformers) (4.2.4)\n",
      "Requirement already satisfied: python-dateutil in /usr/lib/python3/dist-packages (from streamlit->simpletransformers) (2.7.3)\n",
      "Requirement already satisfied: validators in /home/ppirozelli/.local/lib/python3.8/site-packages (from streamlit->simpletransformers) (0.18.2)\n",
      "Requirement already satisfied: protobuf!=3.11,>=3.6.0 in /home/ppirozelli/.local/lib/python3.8/site-packages (from streamlit->simpletransformers) (3.18.0)\n",
      "Requirement already satisfied: pillow>=6.2.0 in /usr/lib/python3/dist-packages (from streamlit->simpletransformers) (7.0.0)\n",
      "Requirement already satisfied: base58 in /home/ppirozelli/.local/lib/python3.8/site-packages (from streamlit->simpletransformers) (2.1.0)\n",
      "Requirement already satisfied: altair>=3.2.0 in /home/ppirozelli/.local/lib/python3.8/site-packages (from streamlit->simpletransformers) (4.1.0)\n",
      "Requirement already satisfied: toml in /usr/local/lib/python3.8/dist-packages (from streamlit->simpletransformers) (0.10.2)\n",
      "Requirement already satisfied: attrs in /usr/lib/python3/dist-packages (from streamlit->simpletransformers) (19.3.0)\n",
      "Requirement already satisfied: tornado>=5.0 in /usr/lib/python3/dist-packages (from streamlit->simpletransformers) (5.1.1)\n",
      "Requirement already satisfied: packaging in /usr/local/lib/python3.8/dist-packages (from streamlit->simpletransformers) (20.9)\n",
      "Requirement already satisfied: astor in /home/ppirozelli/.local/lib/python3.8/site-packages (from streamlit->simpletransformers) (0.8.1)\n",
      "Requirement already satisfied: huggingface-hub>=0.0.17 in /home/ppirozelli/.local/lib/python3.8/site-packages (from transformers>=4.6.0->simpletransformers) (0.0.18)\n",
      "Requirement already satisfied: sacremoses in /usr/local/lib/python3.8/dist-packages (from transformers>=4.6.0->simpletransformers) (0.0.45)\n",
      "Requirement already satisfied: filelock in /usr/local/lib/python3.8/dist-packages (from transformers>=4.6.0->simpletransformers) (3.0.12)\n",
      "Requirement already satisfied: pyyaml>=5.1 in /usr/lib/python3/dist-packages (from transformers>=4.6.0->simpletransformers) (5.3.1)\n",
      "Requirement already satisfied: xxhash in /usr/local/lib/python3.8/dist-packages (from datasets->simpletransformers) (2.0.2)\n",
      "Requirement already satisfied: fsspec in /usr/local/lib/python3.8/dist-packages (from datasets->simpletransformers) (2021.5.0)\n",
      "Requirement already satisfied: dill in /usr/local/lib/python3.8/dist-packages (from datasets->simpletransformers) (0.3.3)\n",
      "Requirement already satisfied: multiprocess in /usr/local/lib/python3.8/dist-packages (from datasets->simpletransformers) (0.70.11.1)\n",
      "Requirement already satisfied: threadpoolctl>=2.0.0 in /usr/local/lib/python3.8/dist-packages (from scikit-learn->simpletransformers) (2.1.0)\n",
      "Requirement already satisfied: joblib>=0.11 in /usr/local/lib/python3.8/dist-packages (from scikit-learn->simpletransformers) (1.0.1)\n",
      "Requirement already satisfied: google-auth<2,>=1.6.3 in /home/ppirozelli/.local/lib/python3.8/site-packages (from tensorboard->simpletransformers) (1.35.0)\n",
      "Requirement already satisfied: tensorboard-data-server<0.7.0,>=0.6.0 in /home/ppirozelli/.local/lib/python3.8/site-packages (from tensorboard->simpletransformers) (0.6.1)\n",
      "Requirement already satisfied: absl-py>=0.4 in /home/ppirozelli/.local/lib/python3.8/site-packages (from tensorboard->simpletransformers) (0.14.1)\n",
      "Requirement already satisfied: grpcio>=1.24.3 in /usr/local/lib/python3.8/dist-packages (from tensorboard->simpletransformers) (1.38.0)\n",
      "Requirement already satisfied: google-auth-oauthlib<0.5,>=0.4.1 in /home/ppirozelli/.local/lib/python3.8/site-packages (from tensorboard->simpletransformers) (0.4.6)\n",
      "Requirement already satisfied: tensorboard-plugin-wit>=1.6.0 in /home/ppirozelli/.local/lib/python3.8/site-packages (from tensorboard->simpletransformers) (1.8.0)\n",
      "Requirement already satisfied: markdown>=2.6.8 in /home/ppirozelli/.local/lib/python3.8/site-packages (from tensorboard->simpletransformers) (3.3.4)\n",
      "Requirement already satisfied: werkzeug>=0.11.15 in /usr/local/lib/python3.8/dist-packages (from tensorboard->simpletransformers) (0.16.1)\n",
      "Requirement already satisfied: setuptools>=41.0.0 in /usr/lib/python3/dist-packages (from tensorboard->simpletransformers) (45.2.0)\n",
      "Requirement already satisfied: wheel>=0.26 in /home/ppirozelli/.local/lib/python3.8/site-packages (from tensorboard->simpletransformers) (0.37.0)\n",
      "Requirement already satisfied: pytz>=2017.3 in /usr/lib/python3/dist-packages (from pandas->simpletransformers) (2019.3)\n",
      "Requirement already satisfied: six>=1.13.0 in /home/ppirozelli/.local/lib/python3.8/site-packages (from wandb>=0.10.32->simpletransformers) (1.15.0)\n",
      "Requirement already satisfied: subprocess32>=3.5.3 in /home/ppirozelli/.local/lib/python3.8/site-packages (from wandb>=0.10.32->simpletransformers) (3.5.4)\n",
      "Requirement already satisfied: sentry-sdk>=1.0.0 in /home/ppirozelli/.local/lib/python3.8/site-packages (from wandb>=0.10.32->simpletransformers) (1.4.3)\n",
      "Requirement already satisfied: psutil>=5.0.0 in /usr/local/lib/python3.8/dist-packages (from wandb>=0.10.32->simpletransformers) (5.8.0)\n",
      "Requirement already satisfied: promise<3,>=2.0 in /home/ppirozelli/.local/lib/python3.8/site-packages (from wandb>=0.10.32->simpletransformers) (2.3)\n",
      "Requirement already satisfied: docker-pycreds>=0.4.0 in /home/ppirozelli/.local/lib/python3.8/site-packages (from wandb>=0.10.32->simpletransformers) (0.4.0)\n",
      "Requirement already satisfied: shortuuid>=0.5.0 in /home/ppirozelli/.local/lib/python3.8/site-packages (from wandb>=0.10.32->simpletransformers) (1.0.1)\n",
      "Requirement already satisfied: configparser>=3.8.1 in /home/ppirozelli/.local/lib/python3.8/site-packages (from wandb>=0.10.32->simpletransformers) (5.0.2)\n",
      "Requirement already satisfied: yaspin>=1.0.0 in /home/ppirozelli/.local/lib/python3.8/site-packages (from wandb>=0.10.32->simpletransformers) (2.1.0)\n",
      "Requirement already satisfied: pathtools in /home/ppirozelli/.local/lib/python3.8/site-packages (from wandb>=0.10.32->simpletransformers) (0.1.2)\n",
      "Requirement already satisfied: traitlets>=4.3.2 in /usr/lib/python3/dist-packages (from pydeck>=0.1.dev5->streamlit->simpletransformers) (4.3.3)\n",
      "Requirement already satisfied: ipykernel>=5.1.2; python_version >= \"3.4\" in /usr/lib/python3/dist-packages (from pydeck>=0.1.dev5->streamlit->simpletransformers) (5.2.0)\n",
      "Requirement already satisfied: jinja2>=2.10.1 in /usr/local/lib/python3.8/dist-packages (from pydeck>=0.1.dev5->streamlit->simpletransformers) (3.0.1)\n",
      "Requirement already satisfied: ipywidgets>=7.0.0 in /home/ppirozelli/.local/lib/python3.8/site-packages (from pydeck>=0.1.dev5->streamlit->simpletransformers) (7.6.5)\n"
     ]
    },
    {
     "name": "stdout",
     "output_type": "stream",
     "text": [
      "Requirement already satisfied: backports.zoneinfo; python_version < \"3.9\" in /home/ppirozelli/.local/lib/python3.8/site-packages (from tzlocal->streamlit->simpletransformers) (0.2.1)\r\n",
      "Requirement already satisfied: gitdb<5,>=4.0.1 in /usr/local/lib/python3.8/dist-packages (from gitpython!=3.1.19->streamlit->simpletransformers) (4.0.7)\r\n",
      "Requirement already satisfied: decorator>=3.4.0 in /usr/lib/python3/dist-packages (from validators->streamlit->simpletransformers) (4.4.2)\r\n",
      "Requirement already satisfied: toolz in /home/ppirozelli/.local/lib/python3.8/site-packages (from altair>=3.2.0->streamlit->simpletransformers) (0.11.1)\r\n",
      "Requirement already satisfied: entrypoints in /usr/lib/python3/dist-packages (from altair>=3.2.0->streamlit->simpletransformers) (0.3)\r\n",
      "Requirement already satisfied: jsonschema in /usr/lib/python3/dist-packages (from altair>=3.2.0->streamlit->simpletransformers) (3.2.0)\r\n",
      "Requirement already satisfied: pyparsing>=2.0.2 in /usr/local/lib/python3.8/dist-packages (from packaging->streamlit->simpletransformers) (2.4.7)\r\n",
      "Requirement already satisfied: typing-extensions in /home/ppirozelli/.local/lib/python3.8/site-packages (from huggingface-hub>=0.0.17->transformers>=4.6.0->simpletransformers) (3.7.4.3)\r\n",
      "Requirement already satisfied: ruamel.yaml==0.17.16 in /home/ppirozelli/.local/lib/python3.8/site-packages (from huggingface-hub>=0.0.17->transformers>=4.6.0->simpletransformers) (0.17.16)\r\n",
      "Requirement already satisfied: rsa<5,>=3.1.4; python_version >= \"3.6\" in /home/ppirozelli/.local/lib/python3.8/site-packages (from google-auth<2,>=1.6.3->tensorboard->simpletransformers) (4.7.2)\r\n",
      "Requirement already satisfied: pyasn1-modules>=0.2.1 in /home/ppirozelli/.local/lib/python3.8/site-packages (from google-auth<2,>=1.6.3->tensorboard->simpletransformers) (0.2.8)\r\n",
      "Requirement already satisfied: requests-oauthlib>=0.7.0 in /usr/local/lib/python3.8/dist-packages (from google-auth-oauthlib<0.5,>=0.4.1->tensorboard->simpletransformers) (1.3.0)\r\n",
      "Requirement already satisfied: urllib3>=1.10.0 in /usr/local/lib/python3.8/dist-packages (from sentry-sdk>=1.0.0->wandb>=0.10.32->simpletransformers) (1.25.4)\r\n",
      "Requirement already satisfied: certifi in /usr/lib/python3/dist-packages (from sentry-sdk>=1.0.0->wandb>=0.10.32->simpletransformers) (2019.11.28)\r\n",
      "Requirement already satisfied: termcolor<2.0.0,>=1.1.0 in /home/ppirozelli/.local/lib/python3.8/site-packages (from yaspin>=1.0.0->wandb>=0.10.32->simpletransformers) (1.1.0)\r\n",
      "Requirement already satisfied: MarkupSafe>=2.0 in /usr/local/lib/python3.8/dist-packages (from jinja2>=2.10.1->pydeck>=0.1.dev5->streamlit->simpletransformers) (2.0.1)\r\n",
      "Requirement already satisfied: nbformat>=4.2.0 in /usr/lib/python3/dist-packages (from ipywidgets>=7.0.0->pydeck>=0.1.dev5->streamlit->simpletransformers) (5.0.4)\r\n",
      "Requirement already satisfied: jupyterlab-widgets>=1.0.0; python_version >= \"3.6\" in /home/ppirozelli/.local/lib/python3.8/site-packages (from ipywidgets>=7.0.0->pydeck>=0.1.dev5->streamlit->simpletransformers) (1.0.2)\r\n",
      "Requirement already satisfied: ipython-genutils~=0.2.0 in /usr/lib/python3/dist-packages (from ipywidgets>=7.0.0->pydeck>=0.1.dev5->streamlit->simpletransformers) (0.2.0)\r\n",
      "Requirement already satisfied: widgetsnbextension~=3.5.0 in /home/ppirozelli/.local/lib/python3.8/site-packages (from ipywidgets>=7.0.0->pydeck>=0.1.dev5->streamlit->simpletransformers) (3.5.1)\r\n",
      "Requirement already satisfied: ipython>=4.0.0; python_version >= \"3.3\" in /usr/lib/python3/dist-packages (from ipywidgets>=7.0.0->pydeck>=0.1.dev5->streamlit->simpletransformers) (7.13.0)\r\n",
      "Requirement already satisfied: smmap<5,>=3.0.1 in /usr/local/lib/python3.8/dist-packages (from gitdb<5,>=4.0.1->gitpython!=3.1.19->streamlit->simpletransformers) (4.0.0)\r\n",
      "Requirement already satisfied: ruamel.yaml.clib>=0.1.2; platform_python_implementation == \"CPython\" and python_version < \"3.10\" in /home/ppirozelli/.local/lib/python3.8/site-packages (from ruamel.yaml==0.17.16->huggingface-hub>=0.0.17->transformers>=4.6.0->simpletransformers) (0.2.6)\r\n",
      "Requirement already satisfied: pyasn1>=0.1.3 in /home/ppirozelli/.local/lib/python3.8/site-packages (from rsa<5,>=3.1.4; python_version >= \"3.6\"->google-auth<2,>=1.6.3->tensorboard->simpletransformers) (0.4.8)\r\n",
      "Requirement already satisfied: oauthlib>=3.0.0 in /usr/lib/python3/dist-packages (from requests-oauthlib>=0.7.0->google-auth-oauthlib<0.5,>=0.4.1->tensorboard->simpletransformers) (3.1.0)\r\n",
      "Requirement already satisfied: notebook>=4.4.1 in /usr/lib/python3/dist-packages (from widgetsnbextension~=3.5.0->ipywidgets>=7.0.0->pydeck>=0.1.dev5->streamlit->simpletransformers) (6.0.3)\r\n",
      "Requirement already satisfied: pexpect in /usr/lib/python3/dist-packages (from ipython>=4.0.0; python_version >= \"3.3\"->ipywidgets>=7.0.0->pydeck>=0.1.dev5->streamlit->simpletransformers) (4.6.0)\r\n"
     ]
    }
   ],
   "source": [
    "!pip install simpletransformers"
   ]
  },
  {
   "cell_type": "code",
   "execution_count": null,
   "metadata": {
    "colab": {
     "base_uri": "https://localhost:8080/"
    },
    "id": "f9fbd5b6",
    "outputId": "43de4ea2-196d-429f-e452-ed4ef3531371"
   },
   "outputs": [
    {
     "name": "stderr",
     "output_type": "stream",
     "text": [
      "Some weights of the model checkpoint at roberta-base were not used when initializing RobertaForSequenceClassification: ['lm_head.decoder.weight', 'lm_head.layer_norm.weight', 'roberta.pooler.dense.weight', 'roberta.pooler.dense.bias', 'lm_head.layer_norm.bias', 'lm_head.dense.weight', 'lm_head.dense.bias', 'lm_head.bias']\n",
      "- This IS expected if you are initializing RobertaForSequenceClassification from the checkpoint of a model trained on another task or with another architecture (e.g. initializing a BertForSequenceClassification model from a BertForPreTraining model).\n",
      "- This IS NOT expected if you are initializing RobertaForSequenceClassification from the checkpoint of a model that you expect to be exactly identical (initializing a BertForSequenceClassification model from a BertForSequenceClassification model).\n",
      "Some weights of RobertaForSequenceClassification were not initialized from the model checkpoint at roberta-base and are newly initialized: ['classifier.dense.bias', 'classifier.out_proj.bias', 'classifier.out_proj.weight', 'classifier.dense.weight']\n",
      "You should probably TRAIN this model on a down-stream task to be able to use it for predictions and inference.\n"
     ]
    }
   ],
   "source": [
    "from simpletransformers.classification import ClassificationModel, ClassificationArgs\n",
    "import logging\n",
    "\n",
    "logging.basicConfig(level=logging.INFO)\n",
    "transformers_logger = logging.getLogger(\"transformers\")\n",
    "transformers_logger.setLevel(logging.WARNING)\n",
    "\n",
    "# Optional model configuration\n",
    "model_args = ClassificationArgs(num_train_epochs=2, overwrite_output_dir = True)\n",
    "\n",
    "# Create a ClassificationModel\n",
    "model = ClassificationModel(\n",
    "    \"roberta\", \"roberta-base\", args=model_args, use_cuda = False)"
   ]
  },
  {
   "cell_type": "code",
   "execution_count": null,
   "metadata": {
    "colab": {
     "background_save": true,
     "base_uri": "https://localhost:8080/",
     "referenced_widgets": [
      "4070ed3ac1e6405bbbf76629e744e112",
      "d66fc1ba67574ebdb68b5d1009950951",
      "fe9993a2f7784646a89d2af1a0500d38",
      "477ed5d8507e4d02b3db11853d807e6c",
      "24ce86f4309b43aebc22e29159c27d39",
      "e33d3632e98e4a77ae52268d8a8b8ab5",
      "1c8c34b0f29840a3a2c0e163193668c6",
      "dd8bbd7764fc41e18e9321ba04a88737",
      "e2fac0ff026f4e218f9733959908f418",
      "344f2afc6564421084e91bc44740c258",
      "fb99acfa1890481eada9bb089947df21",
      "bae3eb2b5b7e43be88883a4030bd4f85",
      "4c66f70b61ed4387abfb71ec69d5a3e7",
      "1dc18007a78f4871b3e1d4df03f7e969",
      "f3b1863df793446e8aca1d53a892c206",
      "370bad67ca1d42d1a1980d55dcfb91a1",
      "992eaaf6820441de824dd66a3ab0081a",
      "757c0005f27d4c12aa8bc5d12aa5ca1f",
      "d05476f88bed4bdcbc0d8497f2269b54",
      "443eded516474f18bce31fd6eff1f8b6",
      "1ed0b08543f9466db6525dab51659611",
      "646329e647a44a5f85e0c5fbeb7d4d22",
      "f68e10a556f147dc96aeda034749cbaa",
      "92b9d2152bb345fc8cd8ebd2da796f5d",
      "5edce611005d4ff094bfd2ebd9d50d3f",
      "41c143d1a0184bb384781628ffbfcc85",
      "6dc6ef4c7eab42f2bd6d3eb90fa240c0",
      "2927c34788764ee2aa19e5ee717a6bcb",
      "9de534be355d40878e3b57b928f1a18f",
      "03f11ff6e2ea4082b1ecb6776c1f9bf1",
      "2b47cd8aec224add8f4a70a51eb093ee",
      "78e3bb43d0b54e4691c456736c9782f7",
      "44675e0ac7db4de084a36f888a1b535a",
      "47dd221c175e4efca7dad83adf5abf0f"
     ]
    },
    "id": "073a5486",
    "outputId": "ef679084-625e-43a0-8440-9339ee10d72e"
   },
   "outputs": [
    {
     "name": "stderr",
     "output_type": "stream",
     "text": [
      "INFO:simpletransformers.classification.classification_utils: Converting to features started. Cache is not used.\n"
     ]
    },
    {
     "data": {
      "application/vnd.jupyter.widget-view+json": {
       "model_id": "ae08a8b9543941f4abac5052126231c6",
       "version_major": 2,
       "version_minor": 0
      },
      "text/plain": [
       "HBox(children=(FloatProgress(value=0.0, max=2096.0), HTML(value='')))"
      ]
     },
     "metadata": {},
     "output_type": "display_data"
    },
    {
     "name": "stderr",
     "output_type": "stream",
     "text": [
      "INFO:simpletransformers.classification.classification_utils: Saving features into cached file cache_dir/cached_train_roberta_128_2_2\n"
     ]
    },
    {
     "name": "stdout",
     "output_type": "stream",
     "text": [
      "\n"
     ]
    },
    {
     "data": {
      "application/vnd.jupyter.widget-view+json": {
       "model_id": "77403809e45548839a7de2a5a86571eb",
       "version_major": 2,
       "version_minor": 0
      },
      "text/plain": [
       "HBox(children=(FloatProgress(value=0.0, description='Epoch', max=2.0, style=ProgressStyle(description_width='i…"
      ]
     },
     "metadata": {},
     "output_type": "display_data"
    },
    {
     "data": {
      "application/vnd.jupyter.widget-view+json": {
       "model_id": "0527d90bcf264908a7579de10c199012",
       "version_major": 2,
       "version_minor": 0
      },
      "text/plain": [
       "HBox(children=(FloatProgress(value=0.0, description='Running Epoch 0 of 2', max=262.0, style=ProgressStyle(des…"
      ]
     },
     "metadata": {},
     "output_type": "display_data"
    }
   ],
   "source": [
    "# Train the model\n",
    "model.train_model(train_df)"
   ]
  },
  {
   "cell_type": "code",
   "execution_count": null,
   "metadata": {
    "id": "793720a4"
   },
   "outputs": [],
   "source": [
    "# Evaluate the model\n",
    "result, model_outputs, wrong_predictions = model.eval_model(eval_df)"
   ]
  },
  {
   "cell_type": "code",
   "execution_count": null,
   "metadata": {},
   "outputs": [
    {
     "name": "stdout",
     "output_type": "stream",
     "text": [
      "Accuracy: 0.8285163776493256\n"
     ]
    }
   ],
   "source": [
    "accuracy_transformer = 860/(860+178)\n",
    "print('Accuracy: ' + str(accuracy_transformer))"
   ]
  },
  {
   "cell_type": "code",
   "execution_count": null,
   "metadata": {},
   "outputs": [
    {
     "name": "stderr",
     "output_type": "stream",
     "text": [
      "INFO:simpletransformers.classification.classification_utils: Converting to features started. Cache is not used.\n"
     ]
    },
    {
     "data": {
      "application/vnd.jupyter.widget-view+json": {
       "model_id": "3ba5498cb7674302ac393c86bc4f720b",
       "version_major": 2,
       "version_minor": 0
      },
      "text/plain": [
       "HBox(children=(FloatProgress(value=0.0, max=1.0), HTML(value='')))"
      ]
     },
     "metadata": {},
     "output_type": "display_data"
    },
    {
     "name": "stdout",
     "output_type": "stream",
     "text": [
      "\n"
     ]
    },
    {
     "data": {
      "application/vnd.jupyter.widget-view+json": {
       "model_id": "f27842c8d4ed406889fb66ccab99ea12",
       "version_major": 2,
       "version_minor": 0
      },
      "text/plain": [
       "HBox(children=(FloatProgress(value=0.0, max=1.0), HTML(value='')))"
      ]
     },
     "metadata": {},
     "output_type": "display_data"
    },
    {
     "name": "stdout",
     "output_type": "stream",
     "text": [
      "\n",
      "Prediction: [1]\n",
      "Label: 0\n",
      "Question and text: [\"The Petroleo Brasileiro SA (Petrobras), a state-owned oil company utilizes its floating production storage and offloading (FPSO) P-50 vessel to 16 production wells at the Albacora Laste field in Campos basin. FPSO symbolizes Brazil's plans to reach oil self-sufficiency by mid-2006. The FPSO will process oil pumped from the field 150 km off Rio de Janeiro and each peak production of 180,000 b/d by August, which represents around 10% of Brazil's crude oil output. The P-50 will also be able to handle 6M cu m/day of natural gas. The P-50 and P-34, also an FPSO, are to begin processing 20,000 b/d of oil at Jubarte field. They will raise national production to 1.9M b/d in 2006, surpassing domestic needs and making Brazil reach oil self-sufficiency. </s> What is the estimated oil processing capacity of the P-50 ship?\"]\n",
      "Answer: ['180,000 b/d and 6M cu m/day of natural gas']\n"
     ]
    }
   ],
   "source": [
    "number = 300\n",
    "\n",
    "predictions, raw_outputs = model.predict([df['text'].iloc[number]])\n",
    "print('Prediction: ' + str(predictions))\n",
    "print('Label: ' + str(df['labels'].iloc[number]))\n",
    "print('Question and text: ' + str([df['text'].iloc[number]]))\n",
    "print('Answer: ' + str([df['answer'].iloc[number]]))"
   ]
  },
  {
   "cell_type": "code",
   "execution_count": null,
   "metadata": {},
   "outputs": [],
   "source": [
    "predictions, raw_outputs = model.predict([\"Sam was a Wizard\"])"
   ]
  },
  {
   "cell_type": "code",
   "execution_count": null,
   "metadata": {
    "id": "e15a3a33"
   },
   "outputs": [],
   "source": [
    "### answering\n",
    "from transformers import BartTokenizer, BartForQuestionAnswering\n",
    "import torch\n",
    "\n",
    "tokenizer = BartTokenizer.from_pretrained('valhalla/bart-large-finetuned-squadv1')\n",
    "# outra possibilidade 'valhalla/longformer-base-4096-finetuned-squadv1'\n",
    "model = BartForQuestionAnswering.from_pretrained('valhalla/bart-large-finetuned-squadv1')"
   ]
  },
  {
   "cell_type": "code",
   "execution_count": null,
   "metadata": {
    "id": "FT5M2Om-lhig"
   },
   "outputs": [],
   "source": [
    "test_labels = []\n",
    "test_outputs = []\n",
    "\n",
    "for i in range(len(eval_df)):\n",
    "  question = df.loc[df.index[i], 'question']\n",
    "  text = df.loc[df.index[i], 'abstract']\n",
    "  encoding = tokenizer(question, text, return_tensors='pt')\n",
    "  input_ids = encoding['input_ids']\n",
    "  attention_mask = encoding['attention_mask']\n",
    "  \n",
    "  start_scores, end_scores = model(input_ids, attention_mask=attention_mask, output_attentions=False)[:2]\n",
    "  \n",
    "  all_tokens = tokenizer.convert_ids_to_tokens(input_ids[0])\n",
    "  answer = ' '.join(all_tokens[torch.argmax(start_scores) : torch.argmax(end_scores)+1])\n",
    "  answer = tokenizer.convert_tokens_to_ids(answer.split())\n",
    "  answer = tokenizer.decode(answer)\n",
    "  test_labels.append(df.loc[df.index[i], 'answer'])\n",
    "  test_outputs.append(answer)"
   ]
  },
  {
   "cell_type": "code",
   "execution_count": null,
   "metadata": {
    "id": "MJnGKWl2kLSE"
   },
   "outputs": [],
   "source": [
    "!pip install rouge_score\n",
    "\n",
    "from rouge_score import rouge_scorer\n",
    "from nltk.tokenize import word_tokenize\n",
    "from nltk.translate.bleu_score import SmoothingFunction\n",
    "from nltk.metrics import f_measure\n",
    "import nltk\n",
    "nltk.download('punkt')\n",
    "import string\n",
    "import re\n",
    "import collections\n",
    "\n",
    "def get_tokens(sentence):\n",
    "    tokens = word_tokenize(sentence)\n",
    "    return tokens\n",
    "\n",
    "def normalize_text(sentence):\n",
    "\n",
    "    def white_space_fix(text):\n",
    "        return \" \".join(text.split())\n",
    "\n",
    "    def remove_punc(text):\n",
    "        exclude = set(string.punctuation)\n",
    "        return \"\".join(ch for ch in text if ch not in exclude)\n",
    "\n",
    "    def lower(text):\n",
    "        return text.lower()\n",
    "\n",
    "    return white_space_fix(remove_punc(lower(sentence)))\n",
    "\n",
    "def f1_score_qa(text_true,text_pred):\n",
    "    \"squad\"\n",
    "    text_true = normalize_text(text_true)\n",
    "    text_pred = normalize_text(text_pred)\n",
    "    true_tokens = get_tokens(text_true)\n",
    "    pred_tokens = get_tokens(text_pred)\n",
    "    common = collections.Counter(true_tokens) & collections.Counter(pred_tokens)\n",
    "    num_same = sum(common.values())\n",
    "    if len(true_tokens) == 0 or len(pred_tokens) == 0:\n",
    "        return int(true_tokens==pred_tokens),int(true_tokens==pred_tokens),int(true_tokens==pred_tokens)\n",
    "    if num_same == 0:\n",
    "        return 0,0,0\n",
    "    precision = 1 * num_same / len(pred_tokens)\n",
    "    recall = 1 * num_same / len(true_tokens)\n",
    "    f1 = (2 * precision * recall) / (precision + recall)\n",
    "    return f1, precision, recall\n",
    "\n",
    "def em_qa(text_true,text_pred):\n",
    "    return int(normalize_text(text_true) == normalize_text(text_pred))\n",
    "\n",
    "def rouge_l_qa(text_true,text_pred):\n",
    "    scorer = rouge_scorer.RougeScorer(['rouge1', 'rougeL'], use_stemmer=True)\n",
    "    scores = scorer.score(text_true,text_pred)\n",
    "\n",
    "    return scores[\"rougeL\"].fmeasure\n",
    "\n",
    "def em_qa_overall(text_true,text_pred):\n",
    "    scores = 0\n",
    "    for i in range(len(text_true)):\n",
    "        scores += em_qa(text_true[i],text_pred[i])\n",
    "    score = scores/len(text_true)\n",
    "    return score\n",
    "\n",
    "def f1_score_qa_overall(text_true,text_pred):\n",
    "    f = 0\n",
    "    for i in range(len(text_true)):\n",
    "        fi,pi,ri = f1_score_qa(text_true[i],text_pred[i])\n",
    "        f+=fi\n",
    "    f = f/len(text_true)\n",
    "    return f\n",
    "\n",
    "def rouge_l_qa_overall(text_true,text_pred):\n",
    "    scores = 0\n",
    "    for i in range(len(text_true)):\n",
    "        score = rouge_l_qa(text_true[i],text_pred[i])\n",
    "        scores += score\n",
    "    scores = scores/len(text_true)\n",
    "    return scores\n",
    "\n",
    "def scores(func,text_true,text_pred):\n",
    "    if func=='rouge_l_qa':\n",
    "        score_value = rouge_l_qa(text_true,text_pred)\n",
    "    if func=='em_qa':\n",
    "        score_value = em_qa(text_true,text_pred)\n",
    "    if func=='f1_score_qa':\n",
    "        score_value = f1_score_qa(text_true,text_pred)\n",
    "    return (func, score_value)\n",
    "        \n",
    "\n",
    "def overall(func,text_true,text_pred):\n",
    "    if func=='rouge_l_qa_overall':\n",
    "        score_value = rouge_l_qa_overall(text_true,text_pred)\n",
    "    if func=='em_qa_overall':\n",
    "        score_value = em_qa_overall(text_true,text_pred)\n",
    "    if func=='f1_score_qa_overall':\n",
    "        score_value = f1_score_qa_overall(text_true,text_pred)\n",
    "    return (func, score_value)"
   ]
  },
  {
   "cell_type": "code",
   "execution_count": null,
   "metadata": {
    "id": "ZQ8pQAqg9D0M"
   },
   "outputs": [],
   "source": [
    "print(\"f1-score: \" + str(overall(\"f1_score_qa_overall\", test_labels, test_outputs)))\n",
    "print(\"EM: \" + str(overall('em_qa_overall', test_labels, test_outputs)))\n",
    "print(\"Rouge-L: \" + str(overall('rouge_l_qa_overall', test_labels, test_outputs)))"
   ]
  },
  {
   "cell_type": "code",
   "execution_count": null,
   "metadata": {
    "id": "9lMowKimIKfJ"
   },
   "outputs": [],
   "source": []
  }
 ],
 "metadata": {
  "colab": {
   "name": "Classifier with paraphrases.ipynb",
   "provenance": []
  },
  "kernelspec": {
   "display_name": "Python 3",
   "language": "python",
   "name": "python3"
  },
  "language_info": {
   "codemirror_mode": {
    "name": "ipython",
    "version": 3
   },
   "file_extension": ".py",
   "mimetype": "text/x-python",
   "name": "python",
   "nbconvert_exporter": "python",
   "pygments_lexer": "ipython3",
   "version": "3.10.12"
  },
  "widgets": {
   "application/vnd.jupyter.widget-state+json": {
    "03f11ff6e2ea4082b1ecb6776c1f9bf1": {
     "model_module": "@jupyter-widgets/base",
     "model_module_version": "1.2.0",
     "model_name": "LayoutModel",
     "state": {
      "_model_module": "@jupyter-widgets/base",
      "_model_module_version": "1.2.0",
      "_model_name": "LayoutModel",
      "_view_count": null,
      "_view_module": "@jupyter-widgets/base",
      "_view_module_version": "1.2.0",
      "_view_name": "LayoutView",
      "align_content": null,
      "align_items": null,
      "align_self": null,
      "border": null,
      "bottom": null,
      "display": null,
      "flex": null,
      "flex_flow": null,
      "grid_area": null,
      "grid_auto_columns": null,
      "grid_auto_flow": null,
      "grid_auto_rows": null,
      "grid_column": null,
      "grid_gap": null,
      "grid_row": null,
      "grid_template_areas": null,
      "grid_template_columns": null,
      "grid_template_rows": null,
      "height": null,
      "justify_content": null,
      "justify_items": null,
      "left": null,
      "margin": null,
      "max_height": null,
      "max_width": null,
      "min_height": null,
      "min_width": null,
      "object_fit": null,
      "object_position": null,
      "order": null,
      "overflow": null,
      "overflow_x": null,
      "overflow_y": null,
      "padding": null,
      "right": null,
      "top": null,
      "visibility": null,
      "width": null
     }
    },
    "1c8c34b0f29840a3a2c0e163193668c6": {
     "model_module": "@jupyter-widgets/controls",
     "model_module_version": "1.5.0",
     "model_name": "DescriptionStyleModel",
     "state": {
      "_model_module": "@jupyter-widgets/controls",
      "_model_module_version": "1.5.0",
      "_model_name": "DescriptionStyleModel",
      "_view_count": null,
      "_view_module": "@jupyter-widgets/base",
      "_view_module_version": "1.2.0",
      "_view_name": "StyleView",
      "description_width": ""
     }
    },
    "1dc18007a78f4871b3e1d4df03f7e969": {
     "model_module": "@jupyter-widgets/controls",
     "model_module_version": "1.5.0",
     "model_name": "FloatProgressModel",
     "state": {
      "_dom_classes": [],
      "_model_module": "@jupyter-widgets/controls",
      "_model_module_version": "1.5.0",
      "_model_name": "FloatProgressModel",
      "_view_count": null,
      "_view_module": "@jupyter-widgets/controls",
      "_view_module_version": "1.5.0",
      "_view_name": "ProgressView",
      "bar_style": "",
      "description": "",
      "description_tooltip": null,
      "layout": "IPY_MODEL_d05476f88bed4bdcbc0d8497f2269b54",
      "max": 2,
      "min": 0,
      "orientation": "horizontal",
      "style": "IPY_MODEL_443eded516474f18bce31fd6eff1f8b6",
      "value": 0
     }
    },
    "1ed0b08543f9466db6525dab51659611": {
     "model_module": "@jupyter-widgets/base",
     "model_module_version": "1.2.0",
     "model_name": "LayoutModel",
     "state": {
      "_model_module": "@jupyter-widgets/base",
      "_model_module_version": "1.2.0",
      "_model_name": "LayoutModel",
      "_view_count": null,
      "_view_module": "@jupyter-widgets/base",
      "_view_module_version": "1.2.0",
      "_view_name": "LayoutView",
      "align_content": null,
      "align_items": null,
      "align_self": null,
      "border": null,
      "bottom": null,
      "display": null,
      "flex": null,
      "flex_flow": null,
      "grid_area": null,
      "grid_auto_columns": null,
      "grid_auto_flow": null,
      "grid_auto_rows": null,
      "grid_column": null,
      "grid_gap": null,
      "grid_row": null,
      "grid_template_areas": null,
      "grid_template_columns": null,
      "grid_template_rows": null,
      "height": null,
      "justify_content": null,
      "justify_items": null,
      "left": null,
      "margin": null,
      "max_height": null,
      "max_width": null,
      "min_height": null,
      "min_width": null,
      "object_fit": null,
      "object_position": null,
      "order": null,
      "overflow": null,
      "overflow_x": null,
      "overflow_y": null,
      "padding": null,
      "right": null,
      "top": null,
      "visibility": null,
      "width": null
     }
    },
    "24ce86f4309b43aebc22e29159c27d39": {
     "model_module": "@jupyter-widgets/base",
     "model_module_version": "1.2.0",
     "model_name": "LayoutModel",
     "state": {
      "_model_module": "@jupyter-widgets/base",
      "_model_module_version": "1.2.0",
      "_model_name": "LayoutModel",
      "_view_count": null,
      "_view_module": "@jupyter-widgets/base",
      "_view_module_version": "1.2.0",
      "_view_name": "LayoutView",
      "align_content": null,
      "align_items": null,
      "align_self": null,
      "border": null,
      "bottom": null,
      "display": null,
      "flex": null,
      "flex_flow": null,
      "grid_area": null,
      "grid_auto_columns": null,
      "grid_auto_flow": null,
      "grid_auto_rows": null,
      "grid_column": null,
      "grid_gap": null,
      "grid_row": null,
      "grid_template_areas": null,
      "grid_template_columns": null,
      "grid_template_rows": null,
      "height": null,
      "justify_content": null,
      "justify_items": null,
      "left": null,
      "margin": null,
      "max_height": null,
      "max_width": null,
      "min_height": null,
      "min_width": null,
      "object_fit": null,
      "object_position": null,
      "order": null,
      "overflow": null,
      "overflow_x": null,
      "overflow_y": null,
      "padding": null,
      "right": null,
      "top": null,
      "visibility": null,
      "width": null
     }
    },
    "2927c34788764ee2aa19e5ee717a6bcb": {
     "model_module": "@jupyter-widgets/base",
     "model_module_version": "1.2.0",
     "model_name": "LayoutModel",
     "state": {
      "_model_module": "@jupyter-widgets/base",
      "_model_module_version": "1.2.0",
      "_model_name": "LayoutModel",
      "_view_count": null,
      "_view_module": "@jupyter-widgets/base",
      "_view_module_version": "1.2.0",
      "_view_name": "LayoutView",
      "align_content": null,
      "align_items": null,
      "align_self": null,
      "border": null,
      "bottom": null,
      "display": null,
      "flex": null,
      "flex_flow": null,
      "grid_area": null,
      "grid_auto_columns": null,
      "grid_auto_flow": null,
      "grid_auto_rows": null,
      "grid_column": null,
      "grid_gap": null,
      "grid_row": null,
      "grid_template_areas": null,
      "grid_template_columns": null,
      "grid_template_rows": null,
      "height": null,
      "justify_content": null,
      "justify_items": null,
      "left": null,
      "margin": null,
      "max_height": null,
      "max_width": null,
      "min_height": null,
      "min_width": null,
      "object_fit": null,
      "object_position": null,
      "order": null,
      "overflow": null,
      "overflow_x": null,
      "overflow_y": null,
      "padding": null,
      "right": null,
      "top": null,
      "visibility": null,
      "width": null
     }
    },
    "2b47cd8aec224add8f4a70a51eb093ee": {
     "model_module": "@jupyter-widgets/controls",
     "model_module_version": "1.5.0",
     "model_name": "ProgressStyleModel",
     "state": {
      "_model_module": "@jupyter-widgets/controls",
      "_model_module_version": "1.5.0",
      "_model_name": "ProgressStyleModel",
      "_view_count": null,
      "_view_module": "@jupyter-widgets/base",
      "_view_module_version": "1.2.0",
      "_view_name": "StyleView",
      "bar_color": null,
      "description_width": ""
     }
    },
    "344f2afc6564421084e91bc44740c258": {
     "model_module": "@jupyter-widgets/base",
     "model_module_version": "1.2.0",
     "model_name": "LayoutModel",
     "state": {
      "_model_module": "@jupyter-widgets/base",
      "_model_module_version": "1.2.0",
      "_model_name": "LayoutModel",
      "_view_count": null,
      "_view_module": "@jupyter-widgets/base",
      "_view_module_version": "1.2.0",
      "_view_name": "LayoutView",
      "align_content": null,
      "align_items": null,
      "align_self": null,
      "border": null,
      "bottom": null,
      "display": null,
      "flex": null,
      "flex_flow": null,
      "grid_area": null,
      "grid_auto_columns": null,
      "grid_auto_flow": null,
      "grid_auto_rows": null,
      "grid_column": null,
      "grid_gap": null,
      "grid_row": null,
      "grid_template_areas": null,
      "grid_template_columns": null,
      "grid_template_rows": null,
      "height": null,
      "justify_content": null,
      "justify_items": null,
      "left": null,
      "margin": null,
      "max_height": null,
      "max_width": null,
      "min_height": null,
      "min_width": null,
      "object_fit": null,
      "object_position": null,
      "order": null,
      "overflow": null,
      "overflow_x": null,
      "overflow_y": null,
      "padding": null,
      "right": null,
      "top": null,
      "visibility": null,
      "width": null
     }
    },
    "370bad67ca1d42d1a1980d55dcfb91a1": {
     "model_module": "@jupyter-widgets/base",
     "model_module_version": "1.2.0",
     "model_name": "LayoutModel",
     "state": {
      "_model_module": "@jupyter-widgets/base",
      "_model_module_version": "1.2.0",
      "_model_name": "LayoutModel",
      "_view_count": null,
      "_view_module": "@jupyter-widgets/base",
      "_view_module_version": "1.2.0",
      "_view_name": "LayoutView",
      "align_content": null,
      "align_items": null,
      "align_self": null,
      "border": null,
      "bottom": null,
      "display": null,
      "flex": null,
      "flex_flow": null,
      "grid_area": null,
      "grid_auto_columns": null,
      "grid_auto_flow": null,
      "grid_auto_rows": null,
      "grid_column": null,
      "grid_gap": null,
      "grid_row": null,
      "grid_template_areas": null,
      "grid_template_columns": null,
      "grid_template_rows": null,
      "height": null,
      "justify_content": null,
      "justify_items": null,
      "left": null,
      "margin": null,
      "max_height": null,
      "max_width": null,
      "min_height": null,
      "min_width": null,
      "object_fit": null,
      "object_position": null,
      "order": null,
      "overflow": null,
      "overflow_x": null,
      "overflow_y": null,
      "padding": null,
      "right": null,
      "top": null,
      "visibility": null,
      "width": null
     }
    },
    "4070ed3ac1e6405bbbf76629e744e112": {
     "model_module": "@jupyter-widgets/controls",
     "model_module_version": "1.5.0",
     "model_name": "HBoxModel",
     "state": {
      "_dom_classes": [],
      "_model_module": "@jupyter-widgets/controls",
      "_model_module_version": "1.5.0",
      "_model_name": "HBoxModel",
      "_view_count": null,
      "_view_module": "@jupyter-widgets/controls",
      "_view_module_version": "1.5.0",
      "_view_name": "HBoxView",
      "box_style": "",
      "children": [
       "IPY_MODEL_d66fc1ba67574ebdb68b5d1009950951",
       "IPY_MODEL_fe9993a2f7784646a89d2af1a0500d38",
       "IPY_MODEL_477ed5d8507e4d02b3db11853d807e6c"
      ],
      "layout": "IPY_MODEL_24ce86f4309b43aebc22e29159c27d39"
     }
    },
    "41c143d1a0184bb384781628ffbfcc85": {
     "model_module": "@jupyter-widgets/controls",
     "model_module_version": "1.5.0",
     "model_name": "HTMLModel",
     "state": {
      "_dom_classes": [],
      "_model_module": "@jupyter-widgets/controls",
      "_model_module_version": "1.5.0",
      "_model_name": "HTMLModel",
      "_view_count": null,
      "_view_module": "@jupyter-widgets/controls",
      "_view_module_version": "1.5.0",
      "_view_name": "HTMLView",
      "description": "",
      "description_tooltip": null,
      "layout": "IPY_MODEL_78e3bb43d0b54e4691c456736c9782f7",
      "placeholder": "​",
      "style": "IPY_MODEL_44675e0ac7db4de084a36f888a1b535a",
      "value": " 3/42 [01:31&lt;17:48, 27.38s/it]"
     }
    },
    "443eded516474f18bce31fd6eff1f8b6": {
     "model_module": "@jupyter-widgets/controls",
     "model_module_version": "1.5.0",
     "model_name": "ProgressStyleModel",
     "state": {
      "_model_module": "@jupyter-widgets/controls",
      "_model_module_version": "1.5.0",
      "_model_name": "ProgressStyleModel",
      "_view_count": null,
      "_view_module": "@jupyter-widgets/base",
      "_view_module_version": "1.2.0",
      "_view_name": "StyleView",
      "bar_color": null,
      "description_width": ""
     }
    },
    "44675e0ac7db4de084a36f888a1b535a": {
     "model_module": "@jupyter-widgets/controls",
     "model_module_version": "1.5.0",
     "model_name": "DescriptionStyleModel",
     "state": {
      "_model_module": "@jupyter-widgets/controls",
      "_model_module_version": "1.5.0",
      "_model_name": "DescriptionStyleModel",
      "_view_count": null,
      "_view_module": "@jupyter-widgets/base",
      "_view_module_version": "1.2.0",
      "_view_name": "StyleView",
      "description_width": ""
     }
    },
    "477ed5d8507e4d02b3db11853d807e6c": {
     "model_module": "@jupyter-widgets/controls",
     "model_module_version": "1.5.0",
     "model_name": "HTMLModel",
     "state": {
      "_dom_classes": [],
      "_model_module": "@jupyter-widgets/controls",
      "_model_module_version": "1.5.0",
      "_model_name": "HTMLModel",
      "_view_count": null,
      "_view_module": "@jupyter-widgets/controls",
      "_view_module_version": "1.5.0",
      "_view_name": "HTMLView",
      "description": "",
      "description_tooltip": null,
      "layout": "IPY_MODEL_344f2afc6564421084e91bc44740c258",
      "placeholder": "​",
      "style": "IPY_MODEL_fb99acfa1890481eada9bb089947df21",
      "value": " 1/334 [00:00&lt;03:30,  1.58it/s]"
     }
    },
    "4c66f70b61ed4387abfb71ec69d5a3e7": {
     "model_module": "@jupyter-widgets/controls",
     "model_module_version": "1.5.0",
     "model_name": "HTMLModel",
     "state": {
      "_dom_classes": [],
      "_model_module": "@jupyter-widgets/controls",
      "_model_module_version": "1.5.0",
      "_model_name": "HTMLModel",
      "_view_count": null,
      "_view_module": "@jupyter-widgets/controls",
      "_view_module_version": "1.5.0",
      "_view_name": "HTMLView",
      "description": "",
      "description_tooltip": null,
      "layout": "IPY_MODEL_992eaaf6820441de824dd66a3ab0081a",
      "placeholder": "​",
      "style": "IPY_MODEL_757c0005f27d4c12aa8bc5d12aa5ca1f",
      "value": "Epoch 1 of 2:   0%"
     }
    },
    "5edce611005d4ff094bfd2ebd9d50d3f": {
     "model_module": "@jupyter-widgets/controls",
     "model_module_version": "1.5.0",
     "model_name": "FloatProgressModel",
     "state": {
      "_dom_classes": [],
      "_model_module": "@jupyter-widgets/controls",
      "_model_module_version": "1.5.0",
      "_model_name": "FloatProgressModel",
      "_view_count": null,
      "_view_module": "@jupyter-widgets/controls",
      "_view_module_version": "1.5.0",
      "_view_name": "ProgressView",
      "bar_style": "",
      "description": "",
      "description_tooltip": null,
      "layout": "IPY_MODEL_03f11ff6e2ea4082b1ecb6776c1f9bf1",
      "max": 42,
      "min": 0,
      "orientation": "horizontal",
      "style": "IPY_MODEL_2b47cd8aec224add8f4a70a51eb093ee",
      "value": 3
     }
    },
    "646329e647a44a5f85e0c5fbeb7d4d22": {
     "model_module": "@jupyter-widgets/controls",
     "model_module_version": "1.5.0",
     "model_name": "DescriptionStyleModel",
     "state": {
      "_model_module": "@jupyter-widgets/controls",
      "_model_module_version": "1.5.0",
      "_model_name": "DescriptionStyleModel",
      "_view_count": null,
      "_view_module": "@jupyter-widgets/base",
      "_view_module_version": "1.2.0",
      "_view_name": "StyleView",
      "description_width": ""
     }
    },
    "6dc6ef4c7eab42f2bd6d3eb90fa240c0": {
     "model_module": "@jupyter-widgets/base",
     "model_module_version": "1.2.0",
     "model_name": "LayoutModel",
     "state": {
      "_model_module": "@jupyter-widgets/base",
      "_model_module_version": "1.2.0",
      "_model_name": "LayoutModel",
      "_view_count": null,
      "_view_module": "@jupyter-widgets/base",
      "_view_module_version": "1.2.0",
      "_view_name": "LayoutView",
      "align_content": null,
      "align_items": null,
      "align_self": null,
      "border": null,
      "bottom": null,
      "display": null,
      "flex": null,
      "flex_flow": null,
      "grid_area": null,
      "grid_auto_columns": null,
      "grid_auto_flow": null,
      "grid_auto_rows": null,
      "grid_column": null,
      "grid_gap": null,
      "grid_row": null,
      "grid_template_areas": null,
      "grid_template_columns": null,
      "grid_template_rows": null,
      "height": null,
      "justify_content": null,
      "justify_items": null,
      "left": null,
      "margin": null,
      "max_height": null,
      "max_width": null,
      "min_height": null,
      "min_width": null,
      "object_fit": null,
      "object_position": null,
      "order": null,
      "overflow": null,
      "overflow_x": null,
      "overflow_y": null,
      "padding": null,
      "right": null,
      "top": null,
      "visibility": null,
      "width": null
     }
    },
    "757c0005f27d4c12aa8bc5d12aa5ca1f": {
     "model_module": "@jupyter-widgets/controls",
     "model_module_version": "1.5.0",
     "model_name": "DescriptionStyleModel",
     "state": {
      "_model_module": "@jupyter-widgets/controls",
      "_model_module_version": "1.5.0",
      "_model_name": "DescriptionStyleModel",
      "_view_count": null,
      "_view_module": "@jupyter-widgets/base",
      "_view_module_version": "1.2.0",
      "_view_name": "StyleView",
      "description_width": ""
     }
    },
    "78e3bb43d0b54e4691c456736c9782f7": {
     "model_module": "@jupyter-widgets/base",
     "model_module_version": "1.2.0",
     "model_name": "LayoutModel",
     "state": {
      "_model_module": "@jupyter-widgets/base",
      "_model_module_version": "1.2.0",
      "_model_name": "LayoutModel",
      "_view_count": null,
      "_view_module": "@jupyter-widgets/base",
      "_view_module_version": "1.2.0",
      "_view_name": "LayoutView",
      "align_content": null,
      "align_items": null,
      "align_self": null,
      "border": null,
      "bottom": null,
      "display": null,
      "flex": null,
      "flex_flow": null,
      "grid_area": null,
      "grid_auto_columns": null,
      "grid_auto_flow": null,
      "grid_auto_rows": null,
      "grid_column": null,
      "grid_gap": null,
      "grid_row": null,
      "grid_template_areas": null,
      "grid_template_columns": null,
      "grid_template_rows": null,
      "height": null,
      "justify_content": null,
      "justify_items": null,
      "left": null,
      "margin": null,
      "max_height": null,
      "max_width": null,
      "min_height": null,
      "min_width": null,
      "object_fit": null,
      "object_position": null,
      "order": null,
      "overflow": null,
      "overflow_x": null,
      "overflow_y": null,
      "padding": null,
      "right": null,
      "top": null,
      "visibility": null,
      "width": null
     }
    },
    "92b9d2152bb345fc8cd8ebd2da796f5d": {
     "model_module": "@jupyter-widgets/controls",
     "model_module_version": "1.5.0",
     "model_name": "HTMLModel",
     "state": {
      "_dom_classes": [],
      "_model_module": "@jupyter-widgets/controls",
      "_model_module_version": "1.5.0",
      "_model_name": "HTMLModel",
      "_view_count": null,
      "_view_module": "@jupyter-widgets/controls",
      "_view_module_version": "1.5.0",
      "_view_name": "HTMLView",
      "description": "",
      "description_tooltip": null,
      "layout": "IPY_MODEL_2927c34788764ee2aa19e5ee717a6bcb",
      "placeholder": "​",
      "style": "IPY_MODEL_9de534be355d40878e3b57b928f1a18f",
      "value": "Epochs 0/2. Running Loss:    0.7595:   7%"
     }
    },
    "992eaaf6820441de824dd66a3ab0081a": {
     "model_module": "@jupyter-widgets/base",
     "model_module_version": "1.2.0",
     "model_name": "LayoutModel",
     "state": {
      "_model_module": "@jupyter-widgets/base",
      "_model_module_version": "1.2.0",
      "_model_name": "LayoutModel",
      "_view_count": null,
      "_view_module": "@jupyter-widgets/base",
      "_view_module_version": "1.2.0",
      "_view_name": "LayoutView",
      "align_content": null,
      "align_items": null,
      "align_self": null,
      "border": null,
      "bottom": null,
      "display": null,
      "flex": null,
      "flex_flow": null,
      "grid_area": null,
      "grid_auto_columns": null,
      "grid_auto_flow": null,
      "grid_auto_rows": null,
      "grid_column": null,
      "grid_gap": null,
      "grid_row": null,
      "grid_template_areas": null,
      "grid_template_columns": null,
      "grid_template_rows": null,
      "height": null,
      "justify_content": null,
      "justify_items": null,
      "left": null,
      "margin": null,
      "max_height": null,
      "max_width": null,
      "min_height": null,
      "min_width": null,
      "object_fit": null,
      "object_position": null,
      "order": null,
      "overflow": null,
      "overflow_x": null,
      "overflow_y": null,
      "padding": null,
      "right": null,
      "top": null,
      "visibility": null,
      "width": null
     }
    },
    "9de534be355d40878e3b57b928f1a18f": {
     "model_module": "@jupyter-widgets/controls",
     "model_module_version": "1.5.0",
     "model_name": "DescriptionStyleModel",
     "state": {
      "_model_module": "@jupyter-widgets/controls",
      "_model_module_version": "1.5.0",
      "_model_name": "DescriptionStyleModel",
      "_view_count": null,
      "_view_module": "@jupyter-widgets/base",
      "_view_module_version": "1.2.0",
      "_view_name": "StyleView",
      "description_width": ""
     }
    },
    "bae3eb2b5b7e43be88883a4030bd4f85": {
     "model_module": "@jupyter-widgets/controls",
     "model_module_version": "1.5.0",
     "model_name": "HBoxModel",
     "state": {
      "_dom_classes": [],
      "_model_module": "@jupyter-widgets/controls",
      "_model_module_version": "1.5.0",
      "_model_name": "HBoxModel",
      "_view_count": null,
      "_view_module": "@jupyter-widgets/controls",
      "_view_module_version": "1.5.0",
      "_view_name": "HBoxView",
      "box_style": "",
      "children": [
       "IPY_MODEL_4c66f70b61ed4387abfb71ec69d5a3e7",
       "IPY_MODEL_1dc18007a78f4871b3e1d4df03f7e969",
       "IPY_MODEL_f3b1863df793446e8aca1d53a892c206"
      ],
      "layout": "IPY_MODEL_370bad67ca1d42d1a1980d55dcfb91a1"
     }
    },
    "d05476f88bed4bdcbc0d8497f2269b54": {
     "model_module": "@jupyter-widgets/base",
     "model_module_version": "1.2.0",
     "model_name": "LayoutModel",
     "state": {
      "_model_module": "@jupyter-widgets/base",
      "_model_module_version": "1.2.0",
      "_model_name": "LayoutModel",
      "_view_count": null,
      "_view_module": "@jupyter-widgets/base",
      "_view_module_version": "1.2.0",
      "_view_name": "LayoutView",
      "align_content": null,
      "align_items": null,
      "align_self": null,
      "border": null,
      "bottom": null,
      "display": null,
      "flex": null,
      "flex_flow": null,
      "grid_area": null,
      "grid_auto_columns": null,
      "grid_auto_flow": null,
      "grid_auto_rows": null,
      "grid_column": null,
      "grid_gap": null,
      "grid_row": null,
      "grid_template_areas": null,
      "grid_template_columns": null,
      "grid_template_rows": null,
      "height": null,
      "justify_content": null,
      "justify_items": null,
      "left": null,
      "margin": null,
      "max_height": null,
      "max_width": null,
      "min_height": null,
      "min_width": null,
      "object_fit": null,
      "object_position": null,
      "order": null,
      "overflow": null,
      "overflow_x": null,
      "overflow_y": null,
      "padding": null,
      "right": null,
      "top": null,
      "visibility": null,
      "width": null
     }
    },
    "d66fc1ba67574ebdb68b5d1009950951": {
     "model_module": "@jupyter-widgets/controls",
     "model_module_version": "1.5.0",
     "model_name": "HTMLModel",
     "state": {
      "_dom_classes": [],
      "_model_module": "@jupyter-widgets/controls",
      "_model_module_version": "1.5.0",
      "_model_name": "HTMLModel",
      "_view_count": null,
      "_view_module": "@jupyter-widgets/controls",
      "_view_module_version": "1.5.0",
      "_view_name": "HTMLView",
      "description": "",
      "description_tooltip": null,
      "layout": "IPY_MODEL_e33d3632e98e4a77ae52268d8a8b8ab5",
      "placeholder": "​",
      "style": "IPY_MODEL_1c8c34b0f29840a3a2c0e163193668c6",
      "value": "  0%"
     }
    },
    "dd8bbd7764fc41e18e9321ba04a88737": {
     "model_module": "@jupyter-widgets/base",
     "model_module_version": "1.2.0",
     "model_name": "LayoutModel",
     "state": {
      "_model_module": "@jupyter-widgets/base",
      "_model_module_version": "1.2.0",
      "_model_name": "LayoutModel",
      "_view_count": null,
      "_view_module": "@jupyter-widgets/base",
      "_view_module_version": "1.2.0",
      "_view_name": "LayoutView",
      "align_content": null,
      "align_items": null,
      "align_self": null,
      "border": null,
      "bottom": null,
      "display": null,
      "flex": null,
      "flex_flow": null,
      "grid_area": null,
      "grid_auto_columns": null,
      "grid_auto_flow": null,
      "grid_auto_rows": null,
      "grid_column": null,
      "grid_gap": null,
      "grid_row": null,
      "grid_template_areas": null,
      "grid_template_columns": null,
      "grid_template_rows": null,
      "height": null,
      "justify_content": null,
      "justify_items": null,
      "left": null,
      "margin": null,
      "max_height": null,
      "max_width": null,
      "min_height": null,
      "min_width": null,
      "object_fit": null,
      "object_position": null,
      "order": null,
      "overflow": null,
      "overflow_x": null,
      "overflow_y": null,
      "padding": null,
      "right": null,
      "top": null,
      "visibility": null,
      "width": null
     }
    },
    "e2fac0ff026f4e218f9733959908f418": {
     "model_module": "@jupyter-widgets/controls",
     "model_module_version": "1.5.0",
     "model_name": "ProgressStyleModel",
     "state": {
      "_model_module": "@jupyter-widgets/controls",
      "_model_module_version": "1.5.0",
      "_model_name": "ProgressStyleModel",
      "_view_count": null,
      "_view_module": "@jupyter-widgets/base",
      "_view_module_version": "1.2.0",
      "_view_name": "StyleView",
      "bar_color": null,
      "description_width": ""
     }
    },
    "e33d3632e98e4a77ae52268d8a8b8ab5": {
     "model_module": "@jupyter-widgets/base",
     "model_module_version": "1.2.0",
     "model_name": "LayoutModel",
     "state": {
      "_model_module": "@jupyter-widgets/base",
      "_model_module_version": "1.2.0",
      "_model_name": "LayoutModel",
      "_view_count": null,
      "_view_module": "@jupyter-widgets/base",
      "_view_module_version": "1.2.0",
      "_view_name": "LayoutView",
      "align_content": null,
      "align_items": null,
      "align_self": null,
      "border": null,
      "bottom": null,
      "display": null,
      "flex": null,
      "flex_flow": null,
      "grid_area": null,
      "grid_auto_columns": null,
      "grid_auto_flow": null,
      "grid_auto_rows": null,
      "grid_column": null,
      "grid_gap": null,
      "grid_row": null,
      "grid_template_areas": null,
      "grid_template_columns": null,
      "grid_template_rows": null,
      "height": null,
      "justify_content": null,
      "justify_items": null,
      "left": null,
      "margin": null,
      "max_height": null,
      "max_width": null,
      "min_height": null,
      "min_width": null,
      "object_fit": null,
      "object_position": null,
      "order": null,
      "overflow": null,
      "overflow_x": null,
      "overflow_y": null,
      "padding": null,
      "right": null,
      "top": null,
      "visibility": null,
      "width": null
     }
    },
    "f3b1863df793446e8aca1d53a892c206": {
     "model_module": "@jupyter-widgets/controls",
     "model_module_version": "1.5.0",
     "model_name": "HTMLModel",
     "state": {
      "_dom_classes": [],
      "_model_module": "@jupyter-widgets/controls",
      "_model_module_version": "1.5.0",
      "_model_name": "HTMLModel",
      "_view_count": null,
      "_view_module": "@jupyter-widgets/controls",
      "_view_module_version": "1.5.0",
      "_view_name": "HTMLView",
      "description": "",
      "description_tooltip": null,
      "layout": "IPY_MODEL_1ed0b08543f9466db6525dab51659611",
      "placeholder": "​",
      "style": "IPY_MODEL_646329e647a44a5f85e0c5fbeb7d4d22",
      "value": " 0/2 [00:00&lt;?, ?it/s]"
     }
    },
    "f68e10a556f147dc96aeda034749cbaa": {
     "model_module": "@jupyter-widgets/controls",
     "model_module_version": "1.5.0",
     "model_name": "HBoxModel",
     "state": {
      "_dom_classes": [],
      "_model_module": "@jupyter-widgets/controls",
      "_model_module_version": "1.5.0",
      "_model_name": "HBoxModel",
      "_view_count": null,
      "_view_module": "@jupyter-widgets/controls",
      "_view_module_version": "1.5.0",
      "_view_name": "HBoxView",
      "box_style": "",
      "children": [
       "IPY_MODEL_92b9d2152bb345fc8cd8ebd2da796f5d",
       "IPY_MODEL_5edce611005d4ff094bfd2ebd9d50d3f",
       "IPY_MODEL_41c143d1a0184bb384781628ffbfcc85"
      ],
      "layout": "IPY_MODEL_6dc6ef4c7eab42f2bd6d3eb90fa240c0"
     }
    },
    "fb99acfa1890481eada9bb089947df21": {
     "model_module": "@jupyter-widgets/controls",
     "model_module_version": "1.5.0",
     "model_name": "DescriptionStyleModel",
     "state": {
      "_model_module": "@jupyter-widgets/controls",
      "_model_module_version": "1.5.0",
      "_model_name": "DescriptionStyleModel",
      "_view_count": null,
      "_view_module": "@jupyter-widgets/base",
      "_view_module_version": "1.2.0",
      "_view_name": "StyleView",
      "description_width": ""
     }
    },
    "fe9993a2f7784646a89d2af1a0500d38": {
     "model_module": "@jupyter-widgets/controls",
     "model_module_version": "1.5.0",
     "model_name": "FloatProgressModel",
     "state": {
      "_dom_classes": [],
      "_model_module": "@jupyter-widgets/controls",
      "_model_module_version": "1.5.0",
      "_model_name": "FloatProgressModel",
      "_view_count": null,
      "_view_module": "@jupyter-widgets/controls",
      "_view_module_version": "1.5.0",
      "_view_name": "ProgressView",
      "bar_style": "danger",
      "description": "",
      "description_tooltip": null,
      "layout": "IPY_MODEL_dd8bbd7764fc41e18e9321ba04a88737",
      "max": 334,
      "min": 0,
      "orientation": "horizontal",
      "style": "IPY_MODEL_e2fac0ff026f4e218f9733959908f418",
      "value": 1
     }
    }
   }
  }
 },
 "nbformat": 4,
 "nbformat_minor": 5
}
